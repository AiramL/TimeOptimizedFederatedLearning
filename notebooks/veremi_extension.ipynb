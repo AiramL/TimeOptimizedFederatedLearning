{
 "cells": [
  {
   "cell_type": "code",
   "execution_count": 3,
   "id": "98b1d7f1",
   "metadata": {},
   "outputs": [],
   "source": [
    "import pandas as pd\n",
    "import numpy as np\n",
    "\n",
    "# Load dataset\n",
    "df = pd.read_csv(\"../datasets/VeReMi_Extension/mixalldata_clean.csv\")\n",
    "\n",
    "# Sort by sender and timestamp\n",
    "df.sort_values([\"sender\", \"messageID\"], inplace=True)"
   ]
  },
  {
   "cell_type": "code",
   "execution_count": 4,
   "id": "45d1c5a4",
   "metadata": {},
   "outputs": [
    {
     "name": "stderr",
     "output_type": "stream",
     "text": [
      "/usr/local/lib/python3.10/dist-packages/sklearn/utils/validation.py:767: FutureWarning: is_sparse is deprecated and will be removed in a future version. Check `isinstance(dtype, pd.SparseDtype)` instead.\n",
      "  if not hasattr(array, \"sparse\") and array.dtypes.apply(is_sparse).any():\n",
      "/usr/local/lib/python3.10/dist-packages/sklearn/utils/validation.py:605: FutureWarning: is_sparse is deprecated and will be removed in a future version. Check `isinstance(dtype, pd.SparseDtype)` instead.\n",
      "  if is_sparse(pd_dtype):\n",
      "/usr/local/lib/python3.10/dist-packages/sklearn/utils/validation.py:614: FutureWarning: is_sparse is deprecated and will be removed in a future version. Check `isinstance(dtype, pd.SparseDtype)` instead.\n",
      "  if is_sparse(pd_dtype) or not is_extension_array_dtype(pd_dtype):\n",
      "/usr/local/lib/python3.10/dist-packages/sklearn/utils/validation.py:767: FutureWarning: is_sparse is deprecated and will be removed in a future version. Check `isinstance(dtype, pd.SparseDtype)` instead.\n",
      "  if not hasattr(array, \"sparse\") and array.dtypes.apply(is_sparse).any():\n",
      "/usr/local/lib/python3.10/dist-packages/sklearn/utils/validation.py:605: FutureWarning: is_sparse is deprecated and will be removed in a future version. Check `isinstance(dtype, pd.SparseDtype)` instead.\n",
      "  if is_sparse(pd_dtype):\n",
      "/usr/local/lib/python3.10/dist-packages/sklearn/utils/validation.py:614: FutureWarning: is_sparse is deprecated and will be removed in a future version. Check `isinstance(dtype, pd.SparseDtype)` instead.\n",
      "  if is_sparse(pd_dtype) or not is_extension_array_dtype(pd_dtype):\n"
     ]
    }
   ],
   "source": [
    "from sklearn.preprocessing import StandardScaler\n",
    "\n",
    "# Define features\n",
    "features = ['posx', \n",
    "            'posy', \n",
    "            'posx_n', \n",
    "            'spdx', \n",
    "            'spdy', \n",
    "            'spdx_n',\n",
    "            'spdy_n', \n",
    "            'aclx', \n",
    "            'acly', \n",
    "            'aclx_n', \n",
    "            'acly_n', \n",
    "            'hedx', \n",
    "            'hedy', \n",
    "            'hedx_n',\n",
    "            'hedy_n'] \n",
    "\n",
    "label_col = \"class\"\n",
    "\n",
    "# Normalize features\n",
    "scaler = StandardScaler()\n",
    "df[features] = scaler.fit_transform(df[features])\n",
    "\n",
    "# Encode labels\n",
    "df[label_col] = df[label_col].astype(\"category\").cat.codes \n",
    "\n",
    "# Group by sender_id\n",
    "grouped = df.groupby(\"sender\")\n"
   ]
  },
  {
   "cell_type": "code",
   "execution_count": 18,
   "id": "44e13cf3",
   "metadata": {},
   "outputs": [
    {
     "name": "stdout",
     "output_type": "stream",
     "text": [
      "Shape of X: (2949997, 10, 15)\n",
      "Shape of y: (2949997, 20)\n"
     ]
    }
   ],
   "source": [
    "sequence_length = 10  # Define time window\n",
    "\n",
    "def create_time_series(group):\n",
    "    X, y = [], []\n",
    "    group = group[features + [label_col]].values  # Convert to NumPy array\n",
    "\n",
    "    if len(group) < sequence_length:\n",
    "        return None  # Skip senders with insufficient data\n",
    "\n",
    "    # Create sliding window sequences\n",
    "    for i in range(len(group) - sequence_length):\n",
    "        X.append(group[i:i+sequence_length, :-1])  # Features\n",
    "        y.append(group[i+sequence_length, -1])  # Label\n",
    "\n",
    "    X, y = np.array(X), np.array(y)\n",
    "\n",
    "    # Ensure correct dimensions: X should be 3D, y should be 1D\n",
    "    if X.ndim != 3 or y.ndim != 1:\n",
    "        return None  # Skip malformed sequences\n",
    "\n",
    "    return X, y\n",
    "\n",
    "# Apply function to all sender groups\n",
    "X_y_pairs = [create_time_series(group) for _, group in grouped]\n",
    "\n",
    "# Remove None values (senders with insufficient data)\n",
    "X_y_pairs = [pair for pair in X_y_pairs if pair is not None]\n",
    "\n",
    "# Ensure valid unpacking\n",
    "if len(X_y_pairs) > 0:\n",
    "    X_list, y_list = zip(*X_y_pairs)  # Unpack\n",
    "    X = np.concatenate(X_list, axis=0)  # Convert to final shape\n",
    "    y = np.concatenate(y_list, axis=0)\n",
    "else:\n",
    "    raise ValueError(\"No valid sequences found! Reduce `sequence_length`.\")\n",
    "\n",
    "from tensorflow.keras.utils import to_categorical\n",
    "\n",
    "y = to_categorical(y, num_classes=len(np.unique(y)))\n",
    "    \n",
    "print(\"Shape of X:\", X.shape)  # (samples, time steps, features)\n",
    "print(\"Shape of y:\", y.shape)  # (samples,)"
   ]
  },
  {
   "cell_type": "code",
   "execution_count": 19,
   "id": "964f0266",
   "metadata": {},
   "outputs": [],
   "source": [
    "from sklearn.model_selection import train_test_split\n",
    "\n",
    "# Train-test split\n",
    "X_train, X_test, y_train, y_test = train_test_split(X, y, test_size=0.2, random_state=42, stratify=y)"
   ]
  },
  {
   "cell_type": "code",
   "execution_count": 22,
   "id": "73c82fbf",
   "metadata": {},
   "outputs": [],
   "source": [
    "from tensorflow.keras.layers import LSTM, Dense, Dropout, Bidirectional, GlobalAveragePooling1D\n",
    "from tensorflow.keras.optimizers import Adam\n",
    "from tensorflow.keras.models import Sequential\n",
    "\n",
    "model = Sequential()\n",
    "model.add(Bidirectional(LSTM(64, activation='tanh',return_sequences=True,input_shape=(sequence_length, len(features)))))\n",
    "model.add(Dropout(0.2))\n",
    "model.add(Dropout(0.2))\n",
    "model.add(Dense(24,activation='relu'))\n",
    "model.add(GlobalAveragePooling1D())\n",
    "model.add(Dense(20,activation='softmax'))\n",
    "\n",
    "model.compile(optimizer=Adam(learning_rate=0.0001), loss='categorical_crossentropy', metrics=['accuracy'])"
   ]
  },
  {
   "cell_type": "code",
   "execution_count": 23,
   "id": "50e72464",
   "metadata": {},
   "outputs": [
    {
     "name": "stdout",
     "output_type": "stream",
     "text": [
      "Epoch 1/20\n",
      "73750/73750 [==============================] - 1066s 14ms/step - loss: 0.8200 - accuracy: 0.7642 - val_loss: 0.6429 - val_accuracy: 0.8053\n",
      "Epoch 2/20\n",
      "73750/73750 [==============================] - 1019s 14ms/step - loss: 0.6042 - accuracy: 0.8147 - val_loss: 0.5633 - val_accuracy: 0.8240\n",
      "Epoch 3/20\n",
      "73750/73750 [==============================] - 990s 13ms/step - loss: 0.5463 - accuracy: 0.8276 - val_loss: 0.5137 - val_accuracy: 0.8342\n",
      "Epoch 4/20\n",
      "73750/73750 [==============================] - 988s 13ms/step - loss: 0.5075 - accuracy: 0.8368 - val_loss: 0.4788 - val_accuracy: 0.8436\n",
      "Epoch 5/20\n",
      "73750/73750 [==============================] - 983s 13ms/step - loss: 0.4778 - accuracy: 0.8442 - val_loss: 0.4592 - val_accuracy: 0.8480\n",
      "Epoch 6/20\n",
      "73750/73750 [==============================] - 976s 13ms/step - loss: 0.4558 - accuracy: 0.8495 - val_loss: 0.4359 - val_accuracy: 0.8550\n",
      "Epoch 7/20\n",
      "73750/73750 [==============================] - 989s 13ms/step - loss: 0.4381 - accuracy: 0.8541 - val_loss: 0.4166 - val_accuracy: 0.8592\n",
      "Epoch 8/20\n",
      "73750/73750 [==============================] - 980s 13ms/step - loss: 0.4238 - accuracy: 0.8576 - val_loss: 0.4075 - val_accuracy: 0.8603\n",
      "Epoch 9/20\n",
      "73750/73750 [==============================] - 1037s 14ms/step - loss: 0.4121 - accuracy: 0.8605 - val_loss: 0.3944 - val_accuracy: 0.8651\n",
      "Epoch 10/20\n",
      "73750/73750 [==============================] - 1065s 14ms/step - loss: 0.4013 - accuracy: 0.8632 - val_loss: 0.3879 - val_accuracy: 0.8663\n",
      "Epoch 11/20\n",
      "73750/73750 [==============================] - 1064s 14ms/step - loss: 0.3924 - accuracy: 0.8653 - val_loss: 0.3826 - val_accuracy: 0.8668\n",
      "Epoch 12/20\n",
      "73750/73750 [==============================] - 1065s 14ms/step - loss: 0.3842 - accuracy: 0.8670 - val_loss: 0.3732 - val_accuracy: 0.8696\n",
      "Epoch 13/20\n",
      "73750/73750 [==============================] - 1065s 14ms/step - loss: 0.3771 - accuracy: 0.8688 - val_loss: 0.3693 - val_accuracy: 0.8695\n",
      "Epoch 14/20\n",
      "73750/73750 [==============================] - 1067s 14ms/step - loss: 0.3704 - accuracy: 0.8702 - val_loss: 0.3592 - val_accuracy: 0.8726\n",
      "Epoch 15/20\n",
      "73750/73750 [==============================] - 1064s 14ms/step - loss: 0.3650 - accuracy: 0.8716 - val_loss: 0.3569 - val_accuracy: 0.8737\n",
      "Epoch 16/20\n",
      "73750/73750 [==============================] - 1065s 14ms/step - loss: 0.3596 - accuracy: 0.8728 - val_loss: 0.3489 - val_accuracy: 0.8753\n",
      "Epoch 17/20\n",
      "73750/73750 [==============================] - 1064s 14ms/step - loss: 0.3545 - accuracy: 0.8738 - val_loss: 0.3443 - val_accuracy: 0.8761\n",
      "Epoch 18/20\n",
      "73750/73750 [==============================] - 1062s 14ms/step - loss: 0.3495 - accuracy: 0.8749 - val_loss: 0.3379 - val_accuracy: 0.8777\n",
      "Epoch 19/20\n",
      "73750/73750 [==============================] - 1060s 14ms/step - loss: 0.3445 - accuracy: 0.8760 - val_loss: 0.3373 - val_accuracy: 0.8773\n",
      "Epoch 20/20\n",
      "73750/73750 [==============================] - 1060s 14ms/step - loss: 0.3401 - accuracy: 0.8769 - val_loss: 0.3309 - val_accuracy: 0.8792\n"
     ]
    }
   ],
   "source": [
    "history = model.fit(X_train, y_train, epochs=20, batch_size=32, validation_data=(X_test, y_test))"
   ]
  },
  {
   "cell_type": "code",
   "execution_count": null,
   "id": "a05ff643",
   "metadata": {},
   "outputs": [],
   "source": [
    "model.save(\"../models/centralized_veremi_extension.keras\")"
   ]
  }
 ],
 "metadata": {
  "kernelspec": {
   "display_name": "Python 3 (ipykernel)",
   "language": "python",
   "name": "python3"
  },
  "language_info": {
   "codemirror_mode": {
    "name": "ipython",
    "version": 3
   },
   "file_extension": ".py",
   "mimetype": "text/x-python",
   "name": "python",
   "nbconvert_exporter": "python",
   "pygments_lexer": "ipython3",
   "version": "3.10.12"
  }
 },
 "nbformat": 4,
 "nbformat_minor": 5
}
