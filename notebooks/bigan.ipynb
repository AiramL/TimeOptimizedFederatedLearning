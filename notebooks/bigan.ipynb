{
 "cells": [
  {
   "cell_type": "markdown",
   "id": "5d97f630-b80a-406d-95ae-954388360305",
   "metadata": {},
   "source": [
    "# Implementing the model based in the paper \\[[1](https://ieeexplore.ieee.org/stamp/stamp.jsp?arnumber=10404993&casa_token=bdWYvtDCImwAAAAA:dEnW6U7EsqgOzYXmVphWYMTQ7XySynoAB-mU9Hq0NVxpyvBfB_ML1mlJEmmeIfK2b59TxZsoxg&tag=1)\\]\n",
    "\n",
    "[1] [Zhong, Yongchao, et al. \"Sybil Attack Detection in VANETs: An LSTM-Based BiGAN Approach.\" 2023 International Conference on Data Security and Privacy Protection (DSPP). IEEE, 2023.](https://ieeexplore.ieee.org/stamp/stamp.jsp?arnumber=10404993&casa_token=bdWYvtDCImwAAAAA:dEnW6U7EsqgOzYXmVphWYMTQ7XySynoAB-mU9Hq0NVxpyvBfB_ML1mlJEmmeIfK2b59TxZsoxg&tag=1)"
   ]
  },
  {
   "cell_type": "code",
   "execution_count": 2,
   "id": "ada06ef0-fa65-4c8d-b3e5-bd856e02ac5b",
   "metadata": {},
   "outputs": [
    {
     "name": "stderr",
     "output_type": "stream",
     "text": [
      "2024-07-17 11:51:46.006073: I tensorflow/core/util/port.cc:113] oneDNN custom operations are on. You may see slightly different numerical results due to floating-point round-off errors from different computation orders. To turn them off, set the environment variable `TF_ENABLE_ONEDNN_OPTS=0`.\n",
      "2024-07-17 11:51:46.161341: I tensorflow/core/platform/cpu_feature_guard.cc:210] This TensorFlow binary is optimized to use available CPU instructions in performance-critical operations.\n",
      "To enable the following instructions: AVX2 AVX_VNNI FMA, in other operations, rebuild TensorFlow with the appropriate compiler flags.\n",
      "2024-07-17 11:51:46.664184: W tensorflow/compiler/tf2tensorrt/utils/py_utils.cc:38] TF-TRT Warning: Could not find TensorRT\n"
     ]
    }
   ],
   "source": [
    "import tensorflow as tf\n",
    "import pandas as pd \n",
    "import numpy as np\n",
    "import seaborn as sns\n",
    "import scipy.io as scio\n",
    "\n",
    "from tensorflow.keras.layers import LSTM, Dense\n",
    "from tensorflow.keras.models import Sequential\n",
    "\n",
    "from sys import path \n",
    "path.append(\"../utils\")\n",
    "from dataset_operations import *\n",
    "from sklearn.model_selection import train_test_split\n",
    "from sklearn.preprocessing import MinMaxScaler"
   ]
  },
  {
   "cell_type": "markdown",
   "id": "2752b078-166a-4de8-8a57-40609a4ca9b5",
   "metadata": {},
   "source": [
    "# Load Dataset \\[[2](https://github.com/stevenso8/WiSec_DataModifiedVeremi_Dataset)\\]\n",
    "\n",
    "[2] [WiSec_DataModifiedVeremi_Dataset](https://github.com/stevenso8/WiSec_DataModifiedVeremi_Dataset)"
   ]
  },
  {
   "cell_type": "code",
   "execution_count": 3,
   "id": "944ff221-9504-4116-b1b6-549223b6b8ed",
   "metadata": {},
   "outputs": [],
   "source": [
    "dataset_1 = scio.loadmat('../datasets/Modified_VeReMi/WiSec_DataModifiedVeremi_Dataset/attack16withlabels.mat')\n",
    "dataset_2 = scio.loadmat('../datasets/Modified_VeReMi/WiSec_DataModifiedVeremi_Dataset/attack1withlabels.mat')\n",
    "dataset_3 = scio.loadmat('../datasets/Modified_VeReMi/WiSec_DataModifiedVeremi_Dataset/attack2withlabels.mat')\n",
    "dataset_4 = scio.loadmat('../datasets/Modified_VeReMi/WiSec_DataModifiedVeremi_Dataset/attack4withlabels.mat')\n",
    "dataset_5 = scio.loadmat('../datasets/Modified_VeReMi/WiSec_DataModifiedVeremi_Dataset/attack8withlabels.mat')"
   ]
  },
  {
   "cell_type": "markdown",
   "id": "9b392fb0-84ea-4a67-a910-9f0bf82ad9b1",
   "metadata": {},
   "source": [
    "# Dataset Visualization"
   ]
  },
  {
   "cell_type": "code",
   "execution_count": 7,
   "id": "8aa5e39d-c4f0-4495-a43c-c2b81a82b2ff",
   "metadata": {},
   "outputs": [
    {
     "name": "stdout",
     "output_type": "stream",
     "text": [
      "<class 'pandas.core.frame.DataFrame'>\n",
      "Index: 2126976 entries, 0 to 424809\n",
      "Data columns (total 17 columns):\n",
      " #   Column             Dtype  \n",
      "---  ------             -----  \n",
      " 0   type               float64\n",
      " 1   timeReceiver       float64\n",
      " 2   receiverID         float64\n",
      " 3   receiverXposition  float64\n",
      " 4   receiverYposition  float64\n",
      " 5   receiverZposition  float64\n",
      " 6   timeTransmitted    float64\n",
      " 7   senderID           float64\n",
      " 8   messageID          float64\n",
      " 9   senderXposition    float64\n",
      " 10  senderYposition    float64\n",
      " 11  senderZposition    float64\n",
      " 12  senderXvelocity    float64\n",
      " 13  senderYvelocity    float64\n",
      " 14  senderZvelocity    float64\n",
      " 15  rssi               float64\n",
      " 16  class              float64\n",
      "dtypes: float64(17)\n",
      "memory usage: 292.1 MB\n"
     ]
    }
   ],
   "source": [
    "header = [\"type\",\n",
    "         \"timeReceiver\",\n",
    "         \"receiverID\",\n",
    "         \"receiverXposition\",\n",
    "         \"receiverYposition\",\n",
    "         \"receiverZposition\",\n",
    "         \"timeTransmitted\",\n",
    "         \"senderID\",\n",
    "         \"messageID\",\n",
    "         \"senderXposition\",\n",
    "         \"senderYposition\",\n",
    "         \"senderZposition\",\n",
    "         \"senderXvelocity\",\n",
    "         \"senderYvelocity\",\n",
    "         \"senderZvelocity\",\n",
    "         \"rssi\",\n",
    "         \"class\"]\n",
    "\n",
    "df_dataset = pd.concat([pd.DataFrame(dataset_1['attack16withlabels']),\n",
    "               pd.DataFrame(dataset_2['attack1withlabels']),\n",
    "               pd.DataFrame(dataset_3['attack2withlabels']),\n",
    "               pd.DataFrame(dataset_4['attack4withlabels']),\n",
    "               pd.DataFrame(dataset_5['attack8withlabels'])])\n",
    "\n",
    "df_dataset.columns = header\n",
    "\n",
    "# verify the number of missing data\n",
    "#df_dataset.isna().sum()\n",
    "df_dataset.info()\n",
    "#df_dataset.senderID.value_counts()"
   ]
  },
  {
   "cell_type": "markdown",
   "id": "7e162ebe-8a68-4684-b278-7e13136eeb9d",
   "metadata": {},
   "source": [
    "# Feature Pre-Processing\n",
    "\n",
    " 1 - Removing identifiers\\\n",
    " 2 - Handling missing values\\\n",
    " 3 - Person correlation\\\n",
    " 4 - Feature normalization (minmax scaler)"
   ]
  },
  {
   "cell_type": "markdown",
   "id": "fdc6bee6-020c-4d83-a0d2-10d1a6a86aa0",
   "metadata": {},
   "source": [
    "### 1 - Removing identifiers"
   ]
  },
  {
   "cell_type": "code",
   "execution_count": null,
   "id": "edd10f43-dbd7-438b-942b-8b614a5a8348",
   "metadata": {},
   "outputs": [],
   "source": [
    " df_dataset = df_dataset.drop(['receiverID','senderID', 'messageID'], axis=1)\n",
    "\n",
    "df_dataset"
   ]
  },
  {
   "cell_type": "markdown",
   "id": "6864aeab-3374-4457-ac46-075ecdd077ca",
   "metadata": {},
   "source": [
    "### 2 - Handling missing values"
   ]
  },
  {
   "cell_type": "code",
   "execution_count": null,
   "id": "92849c17-e512-4fd8-b34d-2f1b9c176424",
   "metadata": {},
   "outputs": [],
   "source": [
    "df_dataset = df_dataset.dropna()\n",
    "\n",
    "df_dataset"
   ]
  },
  {
   "cell_type": "markdown",
   "id": "2f2a029f-8af6-4c2d-b0fc-5117774fa683",
   "metadata": {},
   "source": [
    "### 3 - Pearson Correlation"
   ]
  },
  {
   "cell_type": "code",
   "execution_count": null,
   "id": "57b14eb9-2650-4d88-96e5-53d24fa2ec90",
   "metadata": {},
   "outputs": [],
   "source": [
    "features_nan_corr = [\"receiverZposition\",\n",
    "                     \"senderZposition\",\n",
    "                     \"type\",\n",
    "                     \"senderZvelocity\",\n",
    "                     \"timeReceiver\"]\n",
    "\n",
    "df_dataset = df_dataset.drop(columns=features_nan_corr)"
   ]
  },
  {
   "cell_type": "code",
   "execution_count": null,
   "id": "c2d460b0-b5e8-4c0f-a118-9a740e1b2c72",
   "metadata": {},
   "outputs": [],
   "source": [
    "plt.figure(figsize=(14,8))\n",
    "sns.heatmap(df_dataset.corr(), annot=True, cmap='Blues')"
   ]
  },
  {
   "cell_type": "markdown",
   "id": "9edf7f16-9540-465c-ba4a-a14c40a09fb4",
   "metadata": {},
   "source": [
    "### 4 - Feature normalization"
   ]
  },
  {
   "cell_type": "code",
   "execution_count": null,
   "id": "e3127c6a-41e2-470b-b8b1-12f167ad39ab",
   "metadata": {},
   "outputs": [],
   "source": [
    "X = df_dataset.drop(columns=['class'])"
   ]
  },
  {
   "cell_type": "code",
   "execution_count": null,
   "id": "c87595ea-2077-4448-a5fd-11359c7db4f7",
   "metadata": {},
   "outputs": [],
   "source": [
    "columns_names = X.columns\n",
    "scaler = MinMaxScaler()\n",
    "scaler = scaler.fit(X)\n",
    "X = pd.DataFrame(scaler.transform(X))\n",
    "X.columns = columns_names\n",
    "X"
   ]
  },
  {
   "cell_type": "markdown",
   "id": "03858be1-e7a0-458f-9ffc-c9807efaf665",
   "metadata": {},
   "source": [
    "# Generating Labels One-Hot Enconding"
   ]
  },
  {
   "cell_type": "code",
   "execution_count": null,
   "id": "f9e0c4a4-29f6-4062-ad99-1340860ed711",
   "metadata": {},
   "outputs": [],
   "source": [
    "y = df_dataset['class']\n",
    "y = pd.get_dummies(y,columns=['class'])\n",
    "y.shape"
   ]
  },
  {
   "cell_type": "markdown",
   "id": "7f7a6012-7de9-462a-98bd-788d26e05070",
   "metadata": {},
   "source": [
    "# Format data"
   ]
  },
  {
   "cell_type": "code",
   "execution_count": null,
   "id": "9f96968a-9bcb-4a6c-bbfc-8b17f1be3a0e",
   "metadata": {},
   "outputs": [],
   "source": [
    "x_train, x_test, y_train, y_test = train_test_split(X,y,test_size=0.8,random_state=42)\n",
    "x_train = np.resize(x_train,(x_train.shape[0],1,x_train.shape[1]))\n",
    "x_test = np.resize(x_test,(x_test.shape[0],1,x_test.shape[1]))"
   ]
  },
  {
   "cell_type": "markdown",
   "id": "553aae4d-4ce8-4328-9a80-b957928ae394",
   "metadata": {},
   "source": [
    "# Model Implementation"
   ]
  },
  {
   "cell_type": "code",
   "execution_count": null,
   "id": "a559ccb7-c024-4f79-93c9-d52ec506125a",
   "metadata": {},
   "outputs": [],
   "source": [
    "model = Sequential()\n",
    "model.add(LSTM(100, activation='tanh',return_sequences=True,input_shape=(None,X.shape[1])))\n",
    "model.add(LSTM(49,activation='tanh'))\n",
    "model.add(Dense(6,activation='softmax'))\n",
    "\n",
    "model.compile(optimizer=\"rmsprop\", loss='categorical_crossentropy', metrics=['accuracy'])"
   ]
  },
  {
   "cell_type": "markdown",
   "id": "351a85ae-468b-45ba-9a1f-88dfccad78a8",
   "metadata": {},
   "source": [
    "# Model Training"
   ]
  },
  {
   "cell_type": "code",
   "execution_count": null,
   "id": "80b279af-e404-4884-857d-8fbad584d1c7",
   "metadata": {},
   "outputs": [],
   "source": [
    "model.fit(x_train,y_train,epochs=500,batch_size=64)"
   ]
  },
  {
   "cell_type": "markdown",
   "id": "aab7d6da-b3c1-477a-874b-78a841cb068c",
   "metadata": {},
   "source": [
    "# Model Test"
   ]
  },
  {
   "cell_type": "code",
   "execution_count": null,
   "id": "3fb8242c-578b-474d-9341-e2938e40d84e",
   "metadata": {},
   "outputs": [],
   "source": [
    "model.evaluate(x_test,y_test)"
   ]
  },
  {
   "cell_type": "markdown",
   "id": "1ea586d2-3fca-43da-b14e-ec0d8ae5b09e",
   "metadata": {},
   "source": [
    "# Model Paramters"
   ]
  },
  {
   "cell_type": "code",
   "execution_count": null,
   "id": "89c0632a-e03c-4cfb-bfba-b6f565f0ffd7",
   "metadata": {},
   "outputs": [],
   "source": [
    "model.summary()"
   ]
  }
 ],
 "metadata": {
  "kernelspec": {
   "display_name": "Python 3 (ipykernel)",
   "language": "python",
   "name": "python3"
  },
  "language_info": {
   "codemirror_mode": {
    "name": "ipython",
    "version": 3
   },
   "file_extension": ".py",
   "mimetype": "text/x-python",
   "name": "python",
   "nbconvert_exporter": "python",
   "pygments_lexer": "ipython3",
   "version": "3.10.12"
  }
 },
 "nbformat": 4,
 "nbformat_minor": 5
}
